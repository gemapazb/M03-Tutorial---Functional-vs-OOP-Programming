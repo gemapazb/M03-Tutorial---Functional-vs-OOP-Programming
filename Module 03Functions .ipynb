{
 "cells": [
  {
   "cell_type": "code",
   "execution_count": 12,
   "id": "746c8a1d",
   "metadata": {},
   "outputs": [
    {
     "name": "stdout",
     "output_type": "stream",
     "text": [
      "Division: 5.0\n",
      "Substraction: 8\n"
     ]
    }
   ],
   "source": [
    "#Module03\n",
    "# Gema Paz Barcenas \n",
    "# Navigate to the following URL :https://www.youtube.com/watch?v=6k6kmXHfqgg&ab_channel=BeAPythonDev\n",
    "# Watch the tutorial video and then add your own functions / methods utilizing both OOP and Functional paradigms:\n",
    "# A subtraction function\n",
    "# A division function\n",
    "\n",
    "\n",
    "class function:\n",
    "    def __init__(self, val1, val2):\n",
    "        self.val1 = val1\n",
    "        self.val2 = val2\n",
    " \n",
    "    def add(self): #division \n",
    "        return self.val1 / self.val2\n",
    " \n",
    "    def substract(self):#substraction\n",
    "        return self.val1 - self.val2\n",
    " \n",
    " \n",
    "math_operation = function(10,2)\n",
    "print(\"Division:\",(math_operation.add()))\n",
    "print(\"Substraction:\", math_operation.substract())"
   ]
  },
  {
   "cell_type": "code",
   "execution_count": null,
   "id": "091e3c76",
   "metadata": {},
   "outputs": [],
   "source": []
  }
 ],
 "metadata": {
  "kernelspec": {
   "display_name": "Python 3 (ipykernel)",
   "language": "python",
   "name": "python3"
  },
  "language_info": {
   "codemirror_mode": {
    "name": "ipython",
    "version": 3
   },
   "file_extension": ".py",
   "mimetype": "text/x-python",
   "name": "python",
   "nbconvert_exporter": "python",
   "pygments_lexer": "ipython3",
   "version": "3.9.13"
  }
 },
 "nbformat": 4,
 "nbformat_minor": 5
}
